{
  "cells": [
    {
      "cell_type": "markdown",
      "metadata": {
        "id": "view-in-github",
        "colab_type": "text"
      },
      "source": [
        "<a href=\"https://colab.research.google.com/github/MarceloNevesDS/MarceloNevesDS/blob/main/Damos_lhe_as_boas_vindas_ao_Colaboratory.ipynb\" target=\"_parent\"><img src=\"https://colab.research.google.com/assets/colab-badge.svg\" alt=\"Open In Colab\"/></a>"
      ]
    },
    {
      "cell_type": "code",
      "source": [
        "# Instalar as dependencias\n",
        "!apt-get install openjdk-8-jdk-headless -qq > /dev/null\n",
        "!wget -q https://dlcdn.apache.org/spark/spark-3.3.0/spark-3.3.0-bin-hadoop3.tgz\n",
        "\n",
        "!tar xf spark-3.3.0-bin-hadoop3.tgz\n",
        "!pip install -q findspark"
      ],
      "metadata": {
        "id": "7xBPMZvr7Fl6"
      },
      "execution_count": 7,
      "outputs": []
    },
    {
      "cell_type": "code",
      "source": [
        "# Configurar as variáveis de ambiente\n",
        "import os\n",
        "os.environ[\"JAVA_HOME\"] = \"/usr/lib/jvm/java-8-openjdk-amd64\"\n",
        "os.environ[\"SPARK_HOME\"] = \"/content/spark-3.3.0-bin-hadoop3\"\n",
        "\n",
        "# Torna PySpark \"importável\"\n",
        "import findspark\n",
        "findspark.init('spark-3.3.0-bin-hadoop3')\n"
      ],
      "metadata": {
        "id": "om_xjyKx8gF0"
      },
      "execution_count": 46,
      "outputs": []
    },
    {
      "cell_type": "code",
      "source": [
        "!ls -la /usr/lib/jvm/"
      ],
      "metadata": {
        "id": "I4pP3vOoFUnt",
        "outputId": "2308fc7f-c5c6-4507-9162-3ec4a978de26",
        "colab": {
          "base_uri": "https://localhost:8080/"
        }
      },
      "execution_count": 45,
      "outputs": [
        {
          "output_type": "stream",
          "name": "stdout",
          "text": [
            "total 28\n",
            "drwxr-xr-x 1 root root 4096 Sep 19 18:20 .\n",
            "drwxr-xr-x 1 root root 4096 Sep 14 13:37 ..\n",
            "lrwxrwxrwx 1 root root   25 Feb 20  2019 default-java -> java-1.11.0-openjdk-amd64\n",
            "lrwxrwxrwx 1 root root   21 Jul 22 09:14 java-1.11.0-openjdk-amd64 -> java-11-openjdk-amd64\n",
            "-rw-r--r-- 1 root root 2047 Jul 22 09:14 .java-1.11.0-openjdk-amd64.jinfo\n",
            "drwxr-xr-x 9 root root 4096 Sep 14 13:37 java-11-openjdk-amd64\n",
            "lrwxrwxrwx 1 root root   20 Jul 23 16:13 java-1.8.0-openjdk-amd64 -> java-8-openjdk-amd64\n",
            "-rw-r--r-- 1 root root 2764 Jul 23 16:13 .java-1.8.0-openjdk-amd64.jinfo\n",
            "drwxr-xr-x 7 root root 4096 Sep 19 18:20 java-8-openjdk-amd64\n"
          ]
        }
      ]
    },
    {
      "cell_type": "code",
      "source": [
        "# Iniciar uma sessão local\n",
        "from pyspark.sql import SparkSession\n",
        "#sc = SparkSession.builder.master('local[*]').getOrCreate()\n",
        "spark = SparkSession.builder.appName(\"Introducao\").getOrCreate()\n"
      ],
      "metadata": {
        "id": "NTPouiDc_cA6"
      },
      "execution_count": 47,
      "outputs": []
    },
    {
      "cell_type": "code",
      "source": [
        "#Verify SparkContext\n",
        "print(spark)\n",
        "\n",
        "#Print Spark version\n",
        "print(spark.version)\n"
      ],
      "metadata": {
        "id": "8yuuhMdOFtAr",
        "outputId": "55c0f6e1-992b-4e1d-918f-e8f74e8eb283",
        "colab": {
          "base_uri": "https://localhost:8080/"
        }
      },
      "execution_count": 48,
      "outputs": [
        {
          "output_type": "stream",
          "name": "stdout",
          "text": [
            "<pyspark.sql.session.SparkSession object at 0x7f3631128090>\n",
            "3.3.0\n"
          ]
        }
      ]
    },
    {
      "cell_type": "code",
      "source": [
        "from google.colab import drive\n",
        "drive.mount('/content/drive')"
      ],
      "metadata": {
        "id": "CSrl4TU4GErI"
      },
      "execution_count": null,
      "outputs": []
    }
  ],
  "metadata": {
    "colab": {
      "collapsed_sections": [],
      "name": "Damos-lhe as boas-vindas ao Colaboratory",
      "toc_visible": true,
      "provenance": [],
      "include_colab_link": true
    },
    "kernelspec": {
      "display_name": "Python 3",
      "name": "python3"
    }
  },
  "nbformat": 4,
  "nbformat_minor": 0
}